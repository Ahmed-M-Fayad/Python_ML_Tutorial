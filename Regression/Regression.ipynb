{
 "cells": [
  {
   "cell_type": "markdown",
   "metadata": {},
   "source": [
    "## Importing data\n",
    "Pandas for importing data and performing needed manipulation"
   ]
  },
  {
   "cell_type": "code",
   "execution_count": 2,
   "metadata": {},
   "outputs": [],
   "source": [
    "import pandas as pd\n",
    "df = pd.read_csv(r'..\\Data\\Top 50 Excerice for your body.csv')"
   ]
  },
  {
   "cell_type": "markdown",
   "metadata": {},
   "source": [
    "## Feature selection & crafting\n",
    "selecting useful features from raw data"
   ]
  },
  {
   "cell_type": "code",
   "execution_count": 15,
   "metadata": {},
   "outputs": [
    {
     "data": {
      "text/html": [
       "<div>\n",
       "<style scoped>\n",
       "    .dataframe tbody tr th:only-of-type {\n",
       "        vertical-align: middle;\n",
       "    }\n",
       "\n",
       "    .dataframe tbody tr th {\n",
       "        vertical-align: top;\n",
       "    }\n",
       "\n",
       "    .dataframe thead th {\n",
       "        text-align: right;\n",
       "    }\n",
       "</style>\n",
       "<table border=\"1\" class=\"dataframe\">\n",
       "  <thead>\n",
       "    <tr style=\"text-align: right;\">\n",
       "      <th></th>\n",
       "      <th>Name of Exercise</th>\n",
       "      <th>Overall Excercise counts</th>\n",
       "      <th>Burns Calories (per 30 min)</th>\n",
       "      <th>Calory Burn per exercise count</th>\n",
       "    </tr>\n",
       "  </thead>\n",
       "  <tbody>\n",
       "    <tr>\n",
       "      <th>0</th>\n",
       "      <td>Burpees</td>\n",
       "      <td>30</td>\n",
       "      <td>355</td>\n",
       "      <td>11</td>\n",
       "    </tr>\n",
       "    <tr>\n",
       "      <th>1</th>\n",
       "      <td>Pull-ups</td>\n",
       "      <td>24</td>\n",
       "      <td>250</td>\n",
       "      <td>10</td>\n",
       "    </tr>\n",
       "    <tr>\n",
       "      <th>2</th>\n",
       "      <td>Deadlifts</td>\n",
       "      <td>32</td>\n",
       "      <td>315</td>\n",
       "      <td>9</td>\n",
       "    </tr>\n",
       "    <tr>\n",
       "      <th>3</th>\n",
       "      <td>Box Jumps</td>\n",
       "      <td>40</td>\n",
       "      <td>320</td>\n",
       "      <td>8</td>\n",
       "    </tr>\n",
       "    <tr>\n",
       "      <th>4</th>\n",
       "      <td>Bulgarian Split Squats</td>\n",
       "      <td>30</td>\n",
       "      <td>290</td>\n",
       "      <td>9</td>\n",
       "    </tr>\n",
       "  </tbody>\n",
       "</table>\n",
       "</div>"
      ],
      "text/plain": [
       "         Name of Exercise  Overall Excercise counts  \\\n",
       "0                 Burpees                        30   \n",
       "1                Pull-ups                        24   \n",
       "2               Deadlifts                        32   \n",
       "3               Box Jumps                        40   \n",
       "4  Bulgarian Split Squats                        30   \n",
       "\n",
       "   Burns Calories (per 30 min)  Calory Burn per exercise count  \n",
       "0                          355                              11  \n",
       "1                          250                              10  \n",
       "2                          315                               9  \n",
       "3                          320                               8  \n",
       "4                          290                               9  "
      ]
     },
     "execution_count": 15,
     "metadata": {},
     "output_type": "execute_result"
    }
   ],
   "source": [
    "df['Overall Excercise counts'] = df.Sets * df.Reps\n",
    "features = ['Name of Exercise' , 'Overall Excercise counts' , 'Burns Calories (per 30 min)']\n",
    "filtered_df = df[features].loc[df['Difficulty Level'] == 'Advanced']\n",
    "filtered_df['Calory Burn per exercise count'] = filtered_df['Burns Calories (per 30 min)'] // filtered_df['Overall Excercise counts']\n",
    "filtered_df.sort_values(by='Calory Burn per exercise count' , ascending=False)\n",
    "filtered_df = filtered_df.reset_index(drop=True)\n",
    "filtered_df.head()\n"
   ]
  }
 ],
 "metadata": {
  "kernelspec": {
   "display_name": "Python 3",
   "language": "python",
   "name": "python3"
  },
  "language_info": {
   "codemirror_mode": {
    "name": "ipython",
    "version": 3
   },
   "file_extension": ".py",
   "mimetype": "text/x-python",
   "name": "python",
   "nbconvert_exporter": "python",
   "pygments_lexer": "ipython3",
   "version": "3.12.1"
  }
 },
 "nbformat": 4,
 "nbformat_minor": 2
}
